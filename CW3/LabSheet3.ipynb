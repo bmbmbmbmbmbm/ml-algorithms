{
 "cells": [
  {
   "cell_type": "code",
   "execution_count": 1,
   "metadata": {},
   "outputs": [],
   "source": [
    "import numpy as np"
   ]
  },
  {
   "cell_type": "code",
   "execution_count": 2,
   "metadata": {},
   "outputs": [],
   "source": [
    "def viterbi(sigma, pi, E, S, T, path_labels, path_values):\n",
    "    l_decisions = []\n",
    "    h_decisions = []\n",
    "    for i in range(len(path_values)):\n",
    "        if i == 0:\n",
    "            path_values[i][0] = pi[0] + T[0][S.index(path_labels[i])]\n",
    "            path_values[i][1] = pi[1] + T[1][S.index(path_labels[i])]\n",
    "        else:\n",
    "            prev = max(path_values[i-1][0], path_values[i-1][1])\n",
    "            k = path_values[i-1].index(prev)\n",
    "            \n",
    "            if path_values[i-1][0] == path_values[i-1][1]:\n",
    "                l_decisions.append(sigma[0])\n",
    "                h_decisions.append(sigma[1])\n",
    "            else:\n",
    "                l_decisions.append(sigma[k])\n",
    "                h_decisions.append(sigma[k])\n",
    "            \n",
    "            if k == 0:\n",
    "                path_values[i][0] = round(prev + E[0][0] + T[0][S.index(path_labels[i])], 3)\n",
    "                path_values[i][1] = round(prev + E[0][1] + T[1][S.index(path_labels[i])], 3)\n",
    "            else:\n",
    "                path_values[i][0] = round(prev + E[1][1] + T[0][S.index(path_labels[i])], 3)\n",
    "                path_values[i][1] = round(prev + E[1][0] + T[1][S.index(path_labels[i])], 3)\n",
    "    \n",
    "    path = \"\"\n",
    "    for h in range(len(path_values)):\n",
    "        largest = max(path_values[h][0], path_values[h][1])\n",
    "        path += sigma[path_values[h].index(largest)]\n",
    "        \n",
    "    return path_values, l_decisions, h_decisions, path"
   ]
  },
  {
   "cell_type": "code",
   "execution_count": 3,
   "metadata": {},
   "outputs": [
    {
     "name": "stdout",
     "output_type": "stream",
     "text": [
      "L          H\n",
      " [[ -3.322  -2.737]\n",
      " [ -6.059  -5.474]\n",
      " [ -8.796  -8.211]\n",
      " [-10.948 -11.533]\n",
      " [-14.007 -14.007]\n",
      " [-16.481 -17.651]\n",
      " [-19.54  -19.54 ]\n",
      " [-22.014 -23.184]\n",
      " [-24.488 -25.658]]\n",
      "L decisions:  ['h', 'h', 'h', 'l', 'l', 'l', 'l', 'l']\n",
      "H decisions:  ['h', 'h', 'h', 'l', 'h', 'l', 'h', 'l']\n",
      "Most probable path:  HHHLLLLLL\n"
     ]
    }
   ],
   "source": [
    "pi = [-1, -1]\n",
    "sigma = ['l', 'h']\n",
    "E = [[-0.737, -1.322], \n",
    "     [-1, -1]]\n",
    "S = ['a', 'c', 'g', 't']\n",
    "T = [[-1.737, -2.322, -2.322, -1.737], \n",
    "     [-2.322, -1.737, -1.737, -2.322]]\n",
    "path_values = [[0,0],[0,0],[0,0],[0,0],[0,0],[0,0],[0,0],[0,0],[0,0]]\n",
    "path_labels = ['g','g','c','a','c','t','g','a','a']\n",
    "\n",
    "path_values, l_decisions, h_decisions, path = viterbi(sigma, pi, E, S, T, path_labels, path_values)\n",
    "\n",
    "print(\"L          H\\n\", np.array(path_values))\n",
    "print(\"L decisions: \", l_decisions)\n",
    "print(\"H decisions: \", h_decisions)\n",
    "print(\"Most probable path: \", path.upper())"
   ]
  },
  {
   "cell_type": "code",
   "execution_count": null,
   "metadata": {},
   "outputs": [],
   "source": []
  }
 ],
 "metadata": {
  "kernelspec": {
   "display_name": "Python 3.8.10 64-bit (microsoft store)",
   "language": "python",
   "name": "python3"
  },
  "language_info": {
   "codemirror_mode": {
    "name": "ipython",
    "version": 3
   },
   "file_extension": ".py",
   "mimetype": "text/x-python",
   "name": "python",
   "nbconvert_exporter": "python",
   "pygments_lexer": "ipython3",
   "version": "3.8.10"
  },
  "vscode": {
   "interpreter": {
    "hash": "246f92d186daec7b35a678e9bdea74ec397bc9627000380ea7e7a6723aa8fbbb"
   }
  }
 },
 "nbformat": 4,
 "nbformat_minor": 4
}
