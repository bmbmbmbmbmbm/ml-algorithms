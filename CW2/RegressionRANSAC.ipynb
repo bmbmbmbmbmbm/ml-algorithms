{
 "cells": [
  {
   "cell_type": "markdown",
   "metadata": {},
   "source": [
    "## Linear Regression and RANSAC"
   ]
  },
  {
   "cell_type": "raw",
   "metadata": {},
   "source": [
    "This example is adapted from: https://scikit-learn.org/stable/auto_examples/linear_model/plot_ransac.html"
   ]
  },
  {
   "cell_type": "code",
   "execution_count": 1,
   "metadata": {},
   "outputs": [],
   "source": [
    "# Load the modules we need\n",
    "import numpy as np\n",
    "from matplotlib import pyplot as plt\n",
    "from sklearn import linear_model, datasets"
   ]
  },
  {
   "cell_type": "code",
   "execution_count": 2,
   "metadata": {},
   "outputs": [],
   "source": [
    "#  Create some intial data\n",
    "n_samples = 1000\n",
    "\n",
    "X, y = datasets.make_regression(n_samples=n_samples, n_features=1,\n",
    "                                      n_informative=1, noise=10,\n",
    "                                      random_state=0)"
   ]
  },
  {
   "cell_type": "code",
   "execution_count": 3,
   "metadata": {},
   "outputs": [],
   "source": [
    "# Add some outlier data\n",
    "np.random.seed(0)\n",
    "n_outliers = 50\n",
    "X[:n_outliers] = 3 + 0.5 * np.random.normal(size=(n_outliers, 1))\n",
    "y[:n_outliers] = -3 + 10 * np.random.normal(size=n_outliers)"
   ]
  },
  {
   "cell_type": "code",
   "execution_count": 4,
   "metadata": {},
   "outputs": [],
   "source": [
    "# Create some test positions for for the lines we will draw\n",
    "line_X = np.arange(X.min(), X.max())[:, np.newaxis]"
   ]
  },
  {
   "cell_type": "code",
   "execution_count": 5,
   "metadata": {},
   "outputs": [
    {
     "name": "stdout",
     "output_type": "stream",
     "text": [
      "(array([-9.36646643]), array([54.17236387]))\n",
      "[array([-174.38323639]), array([-120.21087252]), array([-66.03850865]), array([-11.86614478]), array([42.30621909]), array([96.47858295]), array([150.65094682]), array([204.82331069])]\n"
     ]
    }
   ],
   "source": [
    "# TASK 2 ANSWER\n",
    "def linear_regression(X, y):\n",
    "    N = np.size(X)\n",
    "    \n",
    "    m_x = np.mean(X)\n",
    "    m_y = np.mean(y)\n",
    "    \n",
    "    num = 0\n",
    "    den = 0\n",
    "    \n",
    "    for i in range(N):\n",
    "        num += (X[i] - m_x) * (y[i] - m_y)\n",
    "        den += (X[i] - m_x) ** 2\n",
    "    m = num / den\n",
    "    c = m_y - m*m_x\n",
    "    \n",
    "    return (c, m)\n",
    "\n",
    "def prediction(line_X, coef):\n",
    "    line_y = []\n",
    "    for x in line_X:\n",
    "        y = x * coef[1] + coef[0]\n",
    "        line_y.append(y)\n",
    "    return line_y\n",
    "\n",
    "coef = linear_regression(X, y)\n",
    "print(coef)\n",
    "line_y1 = prediction(line_X, coef)\n",
    "print(line_y1)"
   ]
  },
  {
   "cell_type": "code",
   "execution_count": 6,
   "metadata": {},
   "outputs": [
    {
     "name": "stdout",
     "output_type": "stream",
     "text": [
      "[-174.38323639 -120.21087252  -66.03850865  -11.86614478   42.30621909\n",
      "   96.47858295  150.65094682  204.82331069]\n"
     ]
    }
   ],
   "source": [
    "# This is the cell you need to replace to complete Task 2.\n",
    "# Fit line using all data.\n",
    "lr = linear_model.LinearRegression()\n",
    "lr.fit(X, y)\n",
    "line_y = lr.predict(line_X)\n",
    "print(line_y)"
   ]
  },
  {
   "cell_type": "code",
   "execution_count": 7,
   "metadata": {
    "scrolled": true
   },
   "outputs": [],
   "source": [
    "# TASK 3 ANSWER\n",
    "import random\n",
    "import math\n",
    "\n",
    "def calc_iterations(probability, sample_size, outlier_ratio):\n",
    "    numerator = math.log(1 - probability, 10)\n",
    "    denominator = math.log(1 - (1 - outlier_ratio) ** sample_size , 10)\n",
    "    return round(numerator / denominator) if denominator != 0 else 1177\n",
    "\n",
    "def random_sample(sample_size, dataset_size):\n",
    "    indexes = []\n",
    "    for i in range(sample_size):\n",
    "        index = random.randint(0, dataset_size - 1)\n",
    "        while index in indexes:\n",
    "            index = random.randint(0, dataset_size - 1)\n",
    "        indexes.append(index)\n",
    "    return indexes\n",
    "\n",
    "def square_distance(x_val, y_val, m, c):\n",
    "    return (m * x_val + c - y_val) ** 2\n",
    "\n",
    "def calc_ratio(X, y, m, c, t):\n",
    "    count = 0\n",
    "    for i in range(len(X)):\n",
    "        if square_distance(X[i], y[i], m, c) < t:\n",
    "            count += 1\n",
    "    return count / len(X)\n",
    "\n",
    "def RANSAC(X, y, ss):\n",
    "    threshold = 50\n",
    "    ratio = 0\n",
    "    sample_size = ss\n",
    "    p = 0.99\n",
    "    N = calc_iterations(p, sample_size, 1 - ratio)\n",
    "    i = 0\n",
    "    \n",
    "    cm_pair = [0, 0]\n",
    "    \n",
    "    while i < N:\n",
    "        sample_indexes = random_sample(sample_size, len(X))\n",
    "        x_sample = []\n",
    "        y_sample = []\n",
    "        \n",
    "        for j in sample_indexes:\n",
    "            x_sample.append(X[j])\n",
    "            y_sample.append(y[j])\n",
    "        \n",
    "        c, m = linear_regression(x_sample, y_sample)\n",
    "        s_ratio = calc_ratio(X, y, m, c, threshold)\n",
    "        \n",
    "        \n",
    "        if s_ratio > ratio:\n",
    "            ratio = s_ratio\n",
    "            cm_pair = [c, m]\n",
    "            N = calc_iterations(p, sample_size, 1 - ratio)\n",
    "        \n",
    "        i += 1\n",
    "        \n",
    "    return cm_pair\n",
    "        \n",
    "coef = RANSAC(X, y, 10)\n",
    "line_Y_ran = prediction(line_X, coef)"
   ]
  },
  {
   "cell_type": "code",
   "execution_count": 8,
   "metadata": {},
   "outputs": [
    {
     "name": "stdout",
     "output_type": "stream",
     "text": [
      "[-249.81104528 -167.72571369  -85.64038211   -3.55505052   78.53028107\n",
      "  160.61561265  242.70094424  324.78627583]\n"
     ]
    }
   ],
   "source": [
    "# This is the cell you need to replace to complete Task 3.\n",
    "# Robustly fit linear model with RANSAC algorithm\n",
    "ransac = linear_model.RANSACRegressor()\n",
    "ransac.fit(X, y)\n",
    "\n",
    "# Predict data of estimated models\n",
    "line_y_ransac = ransac.predict(line_X)\n",
    "print(line_y_ransac)\n",
    "\n",
    "# Label the if source data is inlier or outlier\n",
    "inlier_mask = ransac.inlier_mask_\n",
    "outlier_mask = np.logical_not(inlier_mask)"
   ]
  },
  {
   "cell_type": "code",
   "execution_count": 9,
   "metadata": {},
   "outputs": [
    {
     "data": {
      "image/png": "[encoded data removed]",
      "text/plain": [
       "<Figure size 432x288 with 1 Axes>"
      ]
     },
     "metadata": {
      "needs_background": "light"
     },
     "output_type": "display_data"
    }
   ],
   "source": [
    "lw = 2\n",
    "\n",
    "doing_linear = True\n",
    "doing_ransac = True\n",
    "\n",
    "if (doing_linear):\n",
    "    plt.plot(line_X, line_y, color='navy', linewidth=lw, label='Linear regressor')\n",
    "    plt.plot(line_X, line_y1, color='magenta', linewidth=lw, label='My linear regressor')\n",
    "\n",
    "if (doing_ransac):\n",
    "    plt.scatter(X[inlier_mask], y[inlier_mask], color='yellowgreen', marker='.', label='Inliers')\n",
    "    plt.scatter(X[outlier_mask], y[outlier_mask], color='gold', marker='.', label='Outliers')\n",
    "    plt.plot(line_X, line_y_ransac, color='cornflowerblue', linewidth=lw, label='RANSAC regressor')\n",
    "    plt.plot(line_X, line_Y_ran, color='orange', linewidth=lw, label='my ransac')\n",
    "else:\n",
    "    plt.scatter(X, y, color='yellowgreen', marker='.', label='Data')\n",
    "    \n",
    "plt.legend(loc='lower right')\n",
    "plt.xlabel(\"Input\")\n",
    "plt.ylabel(\"Response\")\n",
    "plt.show()"
   ]
  },
  {
   "cell_type": "code",
   "execution_count": null,
   "metadata": {},
   "outputs": [],
   "source": []
  }
 ],
 "metadata": {
  "kernelspec": {
   "display_name": "Python 3",
   "language": "python",
   "name": "python3"
  },
  "language_info": {
   "codemirror_mode": {
    "name": "ipython",
    "version": 3
   },
   "file_extension": ".py",
   "mimetype": "text/x-python",
   "name": "python",
   "nbconvert_exporter": "python",
   "pygments_lexer": "ipython3",
   "version": "3.8.5"
  }
 },
 "nbformat": 4,
 "nbformat_minor": 2
}
